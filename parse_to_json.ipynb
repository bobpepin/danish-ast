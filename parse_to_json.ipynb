{
 "cells": [
  {
   "cell_type": "code",
   "execution_count": 1,
   "id": "7b91b1a8",
   "metadata": {},
   "outputs": [],
   "source": [
    "import sqltables"
   ]
  },
  {
   "cell_type": "code",
   "execution_count": 2,
   "id": "2d4e8ce8",
   "metadata": {},
   "outputs": [],
   "source": [
    "db = sqltables.sqlite3.Database(\"/data/nst/annotations.sqlite3\")"
   ]
  },
  {
   "cell_type": "code",
   "execution_count": 3,
   "id": "0ba2ed5e",
   "metadata": {},
   "outputs": [],
   "source": [
    "annotations = db.open_table(\"annotations\")"
   ]
  },
  {
   "cell_type": "code",
   "execution_count": 4,
   "id": "83be3e84",
   "metadata": {},
   "outputs": [
    {
     "data": {
      "text/markdown": [
       "|prefix|recording|audio\\_file|path|text|speaker\\_id|\n",
       "|-|-|-|-|-|-|\n",
       "|\\'train\\/Stasjon6\\/060700\\'|\\'r5650512\\'|\\'u0512142\\.wav\\'|\\'\\/data\\/nst\\/train\\/Stasjon6\\/060700\\/adb\\_0565\\/speech\\/scr0565\\/06\\/05650606\\/r5650512\\/u0512142\\.wav\\'|\\'Alt er lagt til rette\\.\\'|\\'509\\'|\n",
       "|\\'train\\/Stasjon6\\/060700\\'|\\'r5650512\\'|\\'u0512261\\.wav\\'|\\'\\/data\\/nst\\/train\\/Stasjon6\\/060700\\/adb\\_0565\\/speech\\/scr0565\\/06\\/05650606\\/r5650512\\/u0512261\\.wav\\'|\\'uddannet\\'|\\'509\\'|\n",
       "|\\'train\\/Stasjon6\\/060700\\'|\\'r5650512\\'|\\'u0512205\\.wav\\'|\\'\\/data\\/nst\\/train\\/Stasjon6\\/060700\\/adb\\_0565\\/speech\\/scr0565\\/06\\/05650606\\/r5650512\\/u0512205\\.wav\\'|\\'Formanden for rådet glæder sig over\\,\\\\\\\\Komma at der er taget hul på problemerne med generationsskifte\\.\\\\\\\\Punktum\\'|\\'509\\'|\n",
       "|\\'train\\/Stasjon6\\/060700\\'|\\'r5650512\\'|\\'u0512244\\.wav\\'|\\'\\/data\\/nst\\/train\\/Stasjon6\\/060700\\/adb\\_0565\\/speech\\/scr0565\\/06\\/05650606\\/r5650512\\/u0512244\\.wav\\'|\\'Herning\\'|\\'509\\'|\n",
       "|\\'train\\/Stasjon6\\/060700\\'|\\'r5650512\\'|\\'u0512126\\.wav\\'|\\'\\/data\\/nst\\/train\\/Stasjon6\\/060700\\/adb\\_0565\\/speech\\/scr0565\\/06\\/05650606\\/r5650512\\/u0512126\\.wav\\'|\\'elleve tusind og seksogtyve\\'|\\'509\\'|\n",
       "|\\'train\\/Stasjon6\\/060700\\'|\\'r5650512\\'|\\'u0512296\\.wav\\'|\\'\\/data\\/nst\\/train\\/Stasjon6\\/060700\\/adb\\_0565\\/speech\\/scr0565\\/06\\/05650606\\/r5650512\\/u0512296\\.wav\\'|\\'liste\\'|\\'509\\'|\n",
       "|\\'train\\/Stasjon6\\/060700\\'|\\'r5650512\\'|\\'u0512301\\.wav\\'|\\'\\/data\\/nst\\/train\\/Stasjon6\\/060700\\/adb\\_0565\\/speech\\/scr0565\\/06\\/05650606\\/r5650512\\/u0512301\\.wav\\'|\\'telefon privat\\'|\\'509\\'|\n",
       "|\\'train\\/Stasjon6\\/060700\\'|\\'r5650512\\'|\\'u0512304\\.wav\\'|\\'\\/data\\/nst\\/train\\/Stasjon6\\/060700\\/adb\\_0565\\/speech\\/scr0565\\/06\\/05650606\\/r5650512\\/u0512304\\.wav\\'|\\'optag notat\\'|\\'509\\'|\n",
       "|\\'train\\/Stasjon6\\/060700\\'|\\'r5650512\\'|\\'u0512163\\.wav\\'|\\'\\/data\\/nst\\/train\\/Stasjon6\\/060700\\/adb\\_0565\\/speech\\/scr0565\\/06\\/05650606\\/r5650512\\/u0512163\\.wav\\'|\\'Det betyder\\, at når solen opvarmer væsken i solfangeren\\, opstår der en forskel i massefylde mellem væsken i solfangeren og i beholderen\\.\\'|\\'509\\'|\n",
       "|\\'train\\/Stasjon6\\/060700\\'|\\'r5650512\\'|\\'u0512271\\.wav\\'|\\'\\/data\\/nst\\/train\\/Stasjon6\\/060700\\/adb\\_0565\\/speech\\/scr0565\\/06\\/05650606\\/r5650512\\/u0512271\\.wav\\'|\\'forklare\\'|\\'509\\'|\n",
       "|\\'train\\/Stasjon6\\/060700\\'|\\'r5650512\\'|\\'u0512149\\.wav\\'|\\'\\/data\\/nst\\/train\\/Stasjon6\\/060700\\/adb\\_0565\\/speech\\/scr0565\\/06\\/05650606\\/r5650512\\/u0512149\\.wav\\'|\\'Det er de traditionelle druer\\, der fortrinsvis anvendes\\.\\'|\\'509\\'|\n",
       "|\\'train\\/Stasjon6\\/060700\\'|\\'r5650512\\'|\\'u0512084\\.wav\\'|\\'\\/data\\/nst\\/train\\/Stasjon6\\/060700\\/adb\\_0565\\/speech\\/scr0565\\/06\\/05650606\\/r5650512\\/u0512084\\.wav\\'|\\'Det stigende behov for kraftvarme skyldes at tilslutningen til det kollektive varmesystem er øget betydeligt og fortsat vil øges\\.\\'|\\'509\\'|\n",
       "|\\'train\\/Stasjon6\\/060700\\'|\\'r5650512\\'|\\'u0512176\\.wav\\'|\\'\\/data\\/nst\\/train\\/Stasjon6\\/060700\\/adb\\_0565\\/speech\\/scr0565\\/06\\/05650606\\/r5650512\\/u0512176\\.wav\\'|\\'De fleste af aktiviteterne har ikke gennem de senere år genereret en indtjening\\, der bare tilnærmelsesvis har kunnet modsvare omkostningerne\\.\\'|\\'509\\'|\n",
       "|\\'train\\/Stasjon6\\/060700\\'|\\'r5650512\\'|\\'u0512291\\.wav\\'|\\'\\/data\\/nst\\/train\\/Stasjon6\\/060700\\/adb\\_0565\\/speech\\/scr0565\\/06\\/05650606\\/r5650512\\/u0512291\\.wav\\'|\\'hastighed\\'|\\'509\\'|\n",
       "|\\'train\\/Stasjon6\\/060700\\'|\\'r5650512\\'|\\'u0512186\\.wav\\'|\\'\\/data\\/nst\\/train\\/Stasjon6\\/060700\\/adb\\_0565\\/speech\\/scr0565\\/06\\/05650606\\/r5650512\\/u0512186\\.wav\\'|\\'Det gik slag i slag\\.\\'|\\'509\\'|\n",
       "|\\'train\\/Stasjon6\\/060700\\'|\\'r5650512\\'|\\'u0512065\\.wav\\'|\\'\\/data\\/nst\\/train\\/Stasjon6\\/060700\\/adb\\_0565\\/speech\\/scr0565\\/06\\/05650606\\/r5650512\\/u0512065\\.wav\\'|\\'Han var den første\\, der skaffede diasfilm til landet efter krigen\\, og hans forretning udviklede sig til en stor\\'|\\'509\\'|\n",
       "|...|...|...|...|...|...|\n"
      ],
      "text/plain": [
       "<sqltables.sqltables.Table at 0x7fe6d8399760>"
      ]
     },
     "execution_count": 4,
     "metadata": {},
     "output_type": "execute_result"
    }
   ],
   "source": [
    "annotations"
   ]
  },
  {
   "cell_type": "code",
   "execution_count": 11,
   "id": "f85792a8",
   "metadata": {},
   "outputs": [],
   "source": [
    "data = {}\n",
    "for row in annotations.view(\"select * from _ where prefix like 'train%'\"):\n",
    "    entry = {\n",
    "        \"file_path\": row.path,\n",
    "        \"words\": row.text\n",
    "    }\n",
    "    entry_id = f\"{row.prefix}-{row.recording}-{row.audio_file}\"\n",
    "    data[entry_id] = entry"
   ]
  },
  {
   "cell_type": "code",
   "execution_count": 12,
   "id": "6bcf47a9",
   "metadata": {},
   "outputs": [],
   "source": [
    "import json\n",
    "with open(\"/data/nst/train.json\", \"w\") as f:\n",
    "    json.dump(data, f)"
   ]
  },
  {
   "cell_type": "code",
   "execution_count": 13,
   "id": "6b99ff15",
   "metadata": {},
   "outputs": [],
   "source": [
    "data = {}\n",
    "for row in annotations.view(\"select * from _ where prefix like '%test%'\"):\n",
    "    entry = {\n",
    "        \"file_path\": row.path,\n",
    "        \"words\": row.text\n",
    "    }\n",
    "    entry_id = f\"{row.prefix}-{row.recording}-{row.audio_file}\"\n",
    "    data[entry_id] = entry"
   ]
  },
  {
   "cell_type": "code",
   "execution_count": 14,
   "id": "8d6564ca",
   "metadata": {},
   "outputs": [],
   "source": [
    "import json\n",
    "with open(\"/data/nst/test.json\", \"w\") as f:\n",
    "    json.dump(data, f)"
   ]
  },
  {
   "cell_type": "code",
   "execution_count": null,
   "id": "47a34b46",
   "metadata": {},
   "outputs": [],
   "source": []
  }
 ],
 "metadata": {
  "kernelspec": {
   "display_name": "Python 3 (ipykernel)",
   "language": "python",
   "name": "python3"
  },
  "language_info": {
   "codemirror_mode": {
    "name": "ipython",
    "version": 3
   },
   "file_extension": ".py",
   "mimetype": "text/x-python",
   "name": "python",
   "nbconvert_exporter": "python",
   "pygments_lexer": "ipython3",
   "version": "3.9.5"
  }
 },
 "nbformat": 4,
 "nbformat_minor": 5
}
