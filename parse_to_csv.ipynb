{
 "cells": [
  {
   "cell_type": "code",
   "execution_count": 17,
   "id": "729070d6",
   "metadata": {},
   "outputs": [],
   "source": [
    "output_dir = \"/data/nst\""
   ]
  },
  {
   "cell_type": "code",
   "execution_count": 19,
   "id": "f2c447e8",
   "metadata": {},
   "outputs": [],
   "source": [
    "import sqltables\n",
    "from pathlib import Path\n",
    "import csv"
   ]
  },
  {
   "cell_type": "code",
   "execution_count": 3,
   "id": "a71d424b",
   "metadata": {},
   "outputs": [],
   "source": [
    "db = sqltables.sqlite3.Database(\"/data/nst/annotations.sqlite3\")"
   ]
  },
  {
   "cell_type": "code",
   "execution_count": 4,
   "id": "4d39fa64",
   "metadata": {},
   "outputs": [],
   "source": [
    "annotations = db.open_table(\"annotations\")"
   ]
  },
  {
   "cell_type": "code",
   "execution_count": 5,
   "id": "0137d173",
   "metadata": {},
   "outputs": [
    {
     "data": {
      "text/markdown": [
       "|prefix|recording|audio\\_file|path|text|speaker\\_id|\n",
       "|-|-|-|-|-|-|\n",
       "|\\'train\\/Stasjon6\\/060700\\'|\\'r5650512\\'|\\'u0512142\\.wav\\'|\\'\\/data\\/nst\\/train\\/Stasjon6\\/060700\\/adb\\_0565\\/speech\\/scr0565\\/06\\/05650606\\/r5650512\\/u0512142\\.wav\\'|\\'Alt er lagt til rette\\.\\'|\\'509\\'|\n",
       "|\\'train\\/Stasjon6\\/060700\\'|\\'r5650512\\'|\\'u0512261\\.wav\\'|\\'\\/data\\/nst\\/train\\/Stasjon6\\/060700\\/adb\\_0565\\/speech\\/scr0565\\/06\\/05650606\\/r5650512\\/u0512261\\.wav\\'|\\'uddannet\\'|\\'509\\'|\n",
       "|\\'train\\/Stasjon6\\/060700\\'|\\'r5650512\\'|\\'u0512205\\.wav\\'|\\'\\/data\\/nst\\/train\\/Stasjon6\\/060700\\/adb\\_0565\\/speech\\/scr0565\\/06\\/05650606\\/r5650512\\/u0512205\\.wav\\'|\\'Formanden for rådet glæder sig over\\,\\\\\\\\Komma at der er taget hul på problemerne med generationsskifte\\.\\\\\\\\Punktum\\'|\\'509\\'|\n",
       "|\\'train\\/Stasjon6\\/060700\\'|\\'r5650512\\'|\\'u0512244\\.wav\\'|\\'\\/data\\/nst\\/train\\/Stasjon6\\/060700\\/adb\\_0565\\/speech\\/scr0565\\/06\\/05650606\\/r5650512\\/u0512244\\.wav\\'|\\'Herning\\'|\\'509\\'|\n",
       "|\\'train\\/Stasjon6\\/060700\\'|\\'r5650512\\'|\\'u0512126\\.wav\\'|\\'\\/data\\/nst\\/train\\/Stasjon6\\/060700\\/adb\\_0565\\/speech\\/scr0565\\/06\\/05650606\\/r5650512\\/u0512126\\.wav\\'|\\'elleve tusind og seksogtyve\\'|\\'509\\'|\n",
       "|\\'train\\/Stasjon6\\/060700\\'|\\'r5650512\\'|\\'u0512296\\.wav\\'|\\'\\/data\\/nst\\/train\\/Stasjon6\\/060700\\/adb\\_0565\\/speech\\/scr0565\\/06\\/05650606\\/r5650512\\/u0512296\\.wav\\'|\\'liste\\'|\\'509\\'|\n",
       "|\\'train\\/Stasjon6\\/060700\\'|\\'r5650512\\'|\\'u0512301\\.wav\\'|\\'\\/data\\/nst\\/train\\/Stasjon6\\/060700\\/adb\\_0565\\/speech\\/scr0565\\/06\\/05650606\\/r5650512\\/u0512301\\.wav\\'|\\'telefon privat\\'|\\'509\\'|\n",
       "|\\'train\\/Stasjon6\\/060700\\'|\\'r5650512\\'|\\'u0512304\\.wav\\'|\\'\\/data\\/nst\\/train\\/Stasjon6\\/060700\\/adb\\_0565\\/speech\\/scr0565\\/06\\/05650606\\/r5650512\\/u0512304\\.wav\\'|\\'optag notat\\'|\\'509\\'|\n",
       "|\\'train\\/Stasjon6\\/060700\\'|\\'r5650512\\'|\\'u0512163\\.wav\\'|\\'\\/data\\/nst\\/train\\/Stasjon6\\/060700\\/adb\\_0565\\/speech\\/scr0565\\/06\\/05650606\\/r5650512\\/u0512163\\.wav\\'|\\'Det betyder\\, at når solen opvarmer væsken i solfangeren\\, opstår der en forskel i massefylde mellem væsken i solfangeren og i beholderen\\.\\'|\\'509\\'|\n",
       "|\\'train\\/Stasjon6\\/060700\\'|\\'r5650512\\'|\\'u0512271\\.wav\\'|\\'\\/data\\/nst\\/train\\/Stasjon6\\/060700\\/adb\\_0565\\/speech\\/scr0565\\/06\\/05650606\\/r5650512\\/u0512271\\.wav\\'|\\'forklare\\'|\\'509\\'|\n",
       "|\\'train\\/Stasjon6\\/060700\\'|\\'r5650512\\'|\\'u0512149\\.wav\\'|\\'\\/data\\/nst\\/train\\/Stasjon6\\/060700\\/adb\\_0565\\/speech\\/scr0565\\/06\\/05650606\\/r5650512\\/u0512149\\.wav\\'|\\'Det er de traditionelle druer\\, der fortrinsvis anvendes\\.\\'|\\'509\\'|\n",
       "|\\'train\\/Stasjon6\\/060700\\'|\\'r5650512\\'|\\'u0512084\\.wav\\'|\\'\\/data\\/nst\\/train\\/Stasjon6\\/060700\\/adb\\_0565\\/speech\\/scr0565\\/06\\/05650606\\/r5650512\\/u0512084\\.wav\\'|\\'Det stigende behov for kraftvarme skyldes at tilslutningen til det kollektive varmesystem er øget betydeligt og fortsat vil øges\\.\\'|\\'509\\'|\n",
       "|\\'train\\/Stasjon6\\/060700\\'|\\'r5650512\\'|\\'u0512176\\.wav\\'|\\'\\/data\\/nst\\/train\\/Stasjon6\\/060700\\/adb\\_0565\\/speech\\/scr0565\\/06\\/05650606\\/r5650512\\/u0512176\\.wav\\'|\\'De fleste af aktiviteterne har ikke gennem de senere år genereret en indtjening\\, der bare tilnærmelsesvis har kunnet modsvare omkostningerne\\.\\'|\\'509\\'|\n",
       "|\\'train\\/Stasjon6\\/060700\\'|\\'r5650512\\'|\\'u0512291\\.wav\\'|\\'\\/data\\/nst\\/train\\/Stasjon6\\/060700\\/adb\\_0565\\/speech\\/scr0565\\/06\\/05650606\\/r5650512\\/u0512291\\.wav\\'|\\'hastighed\\'|\\'509\\'|\n",
       "|\\'train\\/Stasjon6\\/060700\\'|\\'r5650512\\'|\\'u0512186\\.wav\\'|\\'\\/data\\/nst\\/train\\/Stasjon6\\/060700\\/adb\\_0565\\/speech\\/scr0565\\/06\\/05650606\\/r5650512\\/u0512186\\.wav\\'|\\'Det gik slag i slag\\.\\'|\\'509\\'|\n",
       "|\\'train\\/Stasjon6\\/060700\\'|\\'r5650512\\'|\\'u0512065\\.wav\\'|\\'\\/data\\/nst\\/train\\/Stasjon6\\/060700\\/adb\\_0565\\/speech\\/scr0565\\/06\\/05650606\\/r5650512\\/u0512065\\.wav\\'|\\'Han var den første\\, der skaffede diasfilm til landet efter krigen\\, og hans forretning udviklede sig til en stor\\'|\\'509\\'|\n",
       "|...|...|...|...|...|...|\n"
      ],
      "text/plain": [
       "<sqltables.sqltables.Table at 0x7fe04c523310>"
      ]
     },
     "execution_count": 5,
     "metadata": {},
     "output_type": "execute_result"
    }
   ],
   "source": [
    "annotations"
   ]
  },
  {
   "cell_type": "code",
   "execution_count": 13,
   "id": "ff1b0fbf",
   "metadata": {},
   "outputs": [],
   "source": [
    "import random\n",
    "random.seed(123)\n",
    "rows = list(annotations.view(\"select * from _ where prefix like 'train%' order by path\"))\n",
    "random.shuffle(rows)"
   ]
  },
  {
   "cell_type": "code",
   "execution_count": 14,
   "id": "47f961ee",
   "metadata": {},
   "outputs": [],
   "source": [
    "val_frac = 0.1\n",
    "test_frac = 0.1\n",
    "val_idx = int(len(rows)*val_frac)\n",
    "test_idx = val_idx + int(len(rows)*test_frac)\n",
    "val_rows = rows[0:val_idx]\n",
    "test_rows = rows[val_idx:test_idx]\n",
    "train_rows = rows[test_idx:]"
   ]
  },
  {
   "cell_type": "code",
   "execution_count": 22,
   "id": "50de5832",
   "metadata": {},
   "outputs": [],
   "source": [
    "output_files = {\n",
    "    \"train.csv\": train_rows,\n",
    "    \"dev.csv\": val_rows,\n",
    "    \"test.csv\": test_rows\n",
    "}"
   ]
  },
  {
   "cell_type": "code",
   "execution_count": 23,
   "id": "d255ca2a",
   "metadata": {},
   "outputs": [],
   "source": [
    "for fname, data in output_files.items():\n",
    "    with open(Path(output_dir) / fname, \"w\") as f:\n",
    "        writer = csv.writer(f)\n",
    "        writer.writerow([\"ID\", \"duration\", \"wav\", \"spk_id\", \"wrd\"])\n",
    "        for row in data:\n",
    "            row_id = f\"{row.prefix}-{row.recording}-{row.audio_file}\"\n",
    "            writer.writerow([row_id, \"5\", row.path, row.speaker_id, row.text])"
   ]
  },
  {
   "cell_type": "code",
   "execution_count": null,
   "id": "37180834",
   "metadata": {},
   "outputs": [],
   "source": []
  }
 ],
 "metadata": {
  "kernelspec": {
   "display_name": "Python 3 (ipykernel)",
   "language": "python",
   "name": "python3"
  },
  "language_info": {
   "codemirror_mode": {
    "name": "ipython",
    "version": 3
   },
   "file_extension": ".py",
   "mimetype": "text/x-python",
   "name": "python",
   "nbconvert_exporter": "python",
   "pygments_lexer": "ipython3",
   "version": "3.9.5"
  }
 },
 "nbformat": 4,
 "nbformat_minor": 5
}
